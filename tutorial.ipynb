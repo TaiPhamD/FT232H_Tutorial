{
 "cells": [
  {
   "cell_type": "code",
   "execution_count": 9,
   "metadata": {},
   "outputs": [
    {
     "ename": "USBError",
     "evalue": "[Errno 19] No such device (it may have been disconnected)",
     "output_type": "error",
     "traceback": [
      "\u001b[0;31m---------------------------------------------------------------------------\u001b[0m",
      "\u001b[0;31mUSBError\u001b[0m                                  Traceback (most recent call last)",
      "Cell \u001b[0;32mIn[9], line 19\u001b[0m\n\u001b[1;32m     16\u001b[0m os\u001b[39m.\u001b[39menviron[\u001b[39m'\u001b[39m\u001b[39mBLINKA_FT232H\u001b[39m\u001b[39m'\u001b[39m] \u001b[39m=\u001b[39m \u001b[39m'\u001b[39m\u001b[39m1\u001b[39m\u001b[39m'\u001b[39m\n\u001b[1;32m     18\u001b[0m \u001b[39mfrom\u001b[39;00m \u001b[39mpyftdi\u001b[39;00m\u001b[39m.\u001b[39;00m\u001b[39mftdi\u001b[39;00m \u001b[39mimport\u001b[39;00m Ftdi\n\u001b[0;32m---> 19\u001b[0m Ftdi\u001b[39m.\u001b[39;49mshow_devices()\n",
      "File \u001b[0;32m~/.pyenv/versions/3.11.1/lib/python3.11/site-packages/pyftdi/ftdi.py:383\u001b[0m, in \u001b[0;36mFtdi.show_devices\u001b[0;34m(cls, url, out)\u001b[0m\n\u001b[1;32m    375\u001b[0m \u001b[39m@classmethod\u001b[39m\n\u001b[1;32m    376\u001b[0m \u001b[39mdef\u001b[39;00m \u001b[39mshow_devices\u001b[39m(\u001b[39mcls\u001b[39m, url: Optional[\u001b[39mstr\u001b[39m] \u001b[39m=\u001b[39m \u001b[39mNone\u001b[39;00m,\n\u001b[1;32m    377\u001b[0m                  out: Optional[TextIO] \u001b[39m=\u001b[39m \u001b[39mNone\u001b[39;00m) \u001b[39m-\u001b[39m\u001b[39m>\u001b[39m \u001b[39mNone\u001b[39;00m:\n\u001b[1;32m    378\u001b[0m \u001b[39m    \u001b[39m\u001b[39m\"\"\"Print the URLs and descriptors of connected FTDI devices.\u001b[39;00m\n\u001b[1;32m    379\u001b[0m \n\u001b[1;32m    380\u001b[0m \u001b[39m       :param url: a pattern URL to restrict the search\u001b[39;00m\n\u001b[1;32m    381\u001b[0m \u001b[39m       :param out: output stream, default to stdout\u001b[39;00m\n\u001b[1;32m    382\u001b[0m \u001b[39m    \"\"\"\u001b[39;00m\n\u001b[0;32m--> 383\u001b[0m     devdescs \u001b[39m=\u001b[39m UsbTools\u001b[39m.\u001b[39;49mlist_devices(url \u001b[39mor\u001b[39;49;00m \u001b[39m'\u001b[39;49m\u001b[39mftdi:///?\u001b[39;49m\u001b[39m'\u001b[39;49m,\n\u001b[1;32m    384\u001b[0m                                      \u001b[39mcls\u001b[39;49m\u001b[39m.\u001b[39;49mVENDOR_IDS, \u001b[39mcls\u001b[39;49m\u001b[39m.\u001b[39;49mPRODUCT_IDS,\n\u001b[1;32m    385\u001b[0m                                      \u001b[39mcls\u001b[39;49m\u001b[39m.\u001b[39;49mDEFAULT_VENDOR)\n\u001b[1;32m    386\u001b[0m     UsbTools\u001b[39m.\u001b[39mshow_devices(\u001b[39m'\u001b[39m\u001b[39mftdi\u001b[39m\u001b[39m'\u001b[39m, \u001b[39mcls\u001b[39m\u001b[39m.\u001b[39mVENDOR_IDS, \u001b[39mcls\u001b[39m\u001b[39m.\u001b[39mPRODUCT_IDS,\n\u001b[1;32m    387\u001b[0m                           devdescs, out)\n",
      "File \u001b[0;32m~/.pyenv/versions/3.11.1/lib/python3.11/site-packages/pyftdi/usbtools.py:274\u001b[0m, in \u001b[0;36mUsbTools.list_devices\u001b[0;34m(cls, urlstr, vdict, pdict, default_vendor)\u001b[0m\n\u001b[1;32m    272\u001b[0m \u001b[39mif\u001b[39;00m \u001b[39mnot\u001b[39;00m urlparts\u001b[39m.\u001b[39mpath:\n\u001b[1;32m    273\u001b[0m     \u001b[39mraise\u001b[39;00m UsbToolsError(\u001b[39m'\u001b[39m\u001b[39mURL string is missing device port\u001b[39m\u001b[39m'\u001b[39m)\n\u001b[0;32m--> 274\u001b[0m candidates, _ \u001b[39m=\u001b[39m \u001b[39mcls\u001b[39;49m\u001b[39m.\u001b[39;49menumerate_candidates(urlparts, vdict, pdict,\n\u001b[1;32m    275\u001b[0m                                          default_vendor)\n\u001b[1;32m    276\u001b[0m \u001b[39mreturn\u001b[39;00m candidates\n",
      "File \u001b[0;32m~/.pyenv/versions/3.11.1/lib/python3.11/site-packages/pyftdi/usbtools.py:417\u001b[0m, in \u001b[0;36mUsbTools.enumerate_candidates\u001b[0;34m(cls, urlparts, vdict, pdict, default_vendor)\u001b[0m\n\u001b[1;32m    415\u001b[0m     \u001b[39mfor\u001b[39;00m pid \u001b[39min\u001b[39;00m products:\n\u001b[1;32m    416\u001b[0m         vps\u001b[39m.\u001b[39madd((vid, products[pid]))\n\u001b[0;32m--> 417\u001b[0m devices \u001b[39m=\u001b[39m \u001b[39mcls\u001b[39;49m\u001b[39m.\u001b[39;49mfind_all(vps)\n\u001b[1;32m    418\u001b[0m \u001b[39mif\u001b[39;00m sernum:\n\u001b[1;32m    419\u001b[0m     \u001b[39mif\u001b[39;00m sernum \u001b[39mnot\u001b[39;00m \u001b[39min\u001b[39;00m [dev\u001b[39m.\u001b[39msn \u001b[39mfor\u001b[39;00m dev, _ \u001b[39min\u001b[39;00m devices]:\n",
      "File \u001b[0;32m~/.pyenv/versions/3.11.1/lib/python3.11/site-packages/pyftdi/usbtools.py:101\u001b[0m, in \u001b[0;36mUsbTools.find_all\u001b[0;34m(cls, vps, nocache)\u001b[0m\n\u001b[1;32m     99\u001b[0m \u001b[39m# TODO: handle / is serial number strings\u001b[39;00m\n\u001b[1;32m    100\u001b[0m sernum \u001b[39m=\u001b[39m UsbTools\u001b[39m.\u001b[39mget_string(dev, dev\u001b[39m.\u001b[39miSerialNumber)\n\u001b[0;32m--> 101\u001b[0m description \u001b[39m=\u001b[39m UsbTools\u001b[39m.\u001b[39;49mget_string(dev, dev\u001b[39m.\u001b[39;49miProduct)\n\u001b[1;32m    102\u001b[0m descriptor \u001b[39m=\u001b[39m UsbDeviceDescriptor(dev\u001b[39m.\u001b[39midVendor, dev\u001b[39m.\u001b[39midProduct,\n\u001b[1;32m    103\u001b[0m                                  dev\u001b[39m.\u001b[39mbus, dev\u001b[39m.\u001b[39maddress,\n\u001b[1;32m    104\u001b[0m                                  sernum, \u001b[39mNone\u001b[39;00m, description)\n\u001b[1;32m    105\u001b[0m devices\u001b[39m.\u001b[39madd((descriptor, ifcount))\n",
      "File \u001b[0;32m~/.pyenv/versions/3.11.1/lib/python3.11/site-packages/pyftdi/usbtools.py:556\u001b[0m, in \u001b[0;36mUsbTools.get_string\u001b[0;34m(cls, device, stridx)\u001b[0m\n\u001b[1;32m    554\u001b[0m \u001b[39mtry\u001b[39;00m:\n\u001b[1;32m    555\u001b[0m     \u001b[39mif\u001b[39;00m \u001b[39mcls\u001b[39m\u001b[39m.\u001b[39mUsbApi \u001b[39m==\u001b[39m \u001b[39m2\u001b[39m:\n\u001b[0;32m--> 556\u001b[0m         \u001b[39mreturn\u001b[39;00m usb_get_string(device, stridx)\n\u001b[1;32m    557\u001b[0m     \u001b[39mreturn\u001b[39;00m usb_get_string(device, \u001b[39m64\u001b[39m, stridx)\n\u001b[1;32m    558\u001b[0m \u001b[39mexcept\u001b[39;00m \u001b[39mUnicodeDecodeError\u001b[39;00m:\n\u001b[1;32m    559\u001b[0m     \u001b[39m# do not abort if EEPROM data is somewhat incoherent\u001b[39;00m\n",
      "File \u001b[0;32m~/.pyenv/versions/3.11.1/lib/python3.11/site-packages/usb/util.py:317\u001b[0m, in \u001b[0;36mget_string\u001b[0;34m(dev, index, langid)\u001b[0m\n\u001b[1;32m    313\u001b[0m         \u001b[39mraise\u001b[39;00m \u001b[39mValueError\u001b[39;00m(\u001b[39m\"\u001b[39m\u001b[39mThe device has no langid\u001b[39m\u001b[39m\"\u001b[39m\n\u001b[1;32m    314\u001b[0m                          \u001b[39m\"\u001b[39m\u001b[39m (permission issue, no string descriptors supported or device error)\u001b[39m\u001b[39m\"\u001b[39m)\n\u001b[1;32m    315\u001b[0m     langid \u001b[39m=\u001b[39m langids[\u001b[39m0\u001b[39m]\n\u001b[0;32m--> 317\u001b[0m buf \u001b[39m=\u001b[39m get_descriptor(\n\u001b[1;32m    318\u001b[0m             dev,\n\u001b[1;32m    319\u001b[0m             \u001b[39m254\u001b[39;49m, \u001b[39m# maximum even length\u001b[39;49;00m\n\u001b[1;32m    320\u001b[0m             DESC_TYPE_STRING,\n\u001b[1;32m    321\u001b[0m             index,\n\u001b[1;32m    322\u001b[0m             langid\n\u001b[1;32m    323\u001b[0m         )\n\u001b[1;32m    324\u001b[0m blen \u001b[39m=\u001b[39m buf[\u001b[39m0\u001b[39m] \u001b[39m&\u001b[39m \u001b[39m0xfe\u001b[39m \u001b[39m# should be even, ignore any trailing byte (see #154)\u001b[39;00m\n\u001b[1;32m    325\u001b[0m \u001b[39mif\u001b[39;00m hexversion \u001b[39m>\u001b[39m\u001b[39m=\u001b[39m \u001b[39m0x03020000\u001b[39m:\n",
      "File \u001b[0;32m~/.pyenv/versions/3.11.1/lib/python3.11/site-packages/usb/control.py:170\u001b[0m, in \u001b[0;36mget_descriptor\u001b[0;34m(dev, desc_size, desc_type, desc_index, wIndex)\u001b[0m\n\u001b[1;32m    163\u001b[0m wValue \u001b[39m=\u001b[39m desc_index \u001b[39m|\u001b[39m (desc_type \u001b[39m<<\u001b[39m \u001b[39m8\u001b[39m)\n\u001b[1;32m    165\u001b[0m bmRequestType \u001b[39m=\u001b[39m util\u001b[39m.\u001b[39mbuild_request_type(\n\u001b[1;32m    166\u001b[0m                     util\u001b[39m.\u001b[39mCTRL_IN,\n\u001b[1;32m    167\u001b[0m                     util\u001b[39m.\u001b[39mCTRL_TYPE_STANDARD,\n\u001b[1;32m    168\u001b[0m                     util\u001b[39m.\u001b[39mCTRL_RECIPIENT_DEVICE)\n\u001b[0;32m--> 170\u001b[0m desc \u001b[39m=\u001b[39m dev\u001b[39m.\u001b[39;49mctrl_transfer(\n\u001b[1;32m    171\u001b[0m         bmRequestType \u001b[39m=\u001b[39;49m bmRequestType,\n\u001b[1;32m    172\u001b[0m         bRequest \u001b[39m=\u001b[39;49m \u001b[39m0x06\u001b[39;49m,\n\u001b[1;32m    173\u001b[0m         wValue \u001b[39m=\u001b[39;49m wValue,\n\u001b[1;32m    174\u001b[0m         wIndex \u001b[39m=\u001b[39;49m wIndex,\n\u001b[1;32m    175\u001b[0m         data_or_wLength \u001b[39m=\u001b[39;49m desc_size)\n\u001b[1;32m    177\u001b[0m \u001b[39mif\u001b[39;00m \u001b[39mlen\u001b[39m(desc) \u001b[39m<\u001b[39m \u001b[39m2\u001b[39m:\n\u001b[1;32m    178\u001b[0m     \u001b[39mraise\u001b[39;00m USBError(\u001b[39m'\u001b[39m\u001b[39mInvalid descriptor\u001b[39m\u001b[39m'\u001b[39m)\n",
      "File \u001b[0;32m~/.pyenv/versions/3.11.1/lib/python3.11/site-packages/usb/core.py:1070\u001b[0m, in \u001b[0;36mDevice.ctrl_transfer\u001b[0;34m(self, bmRequestType, bRequest, wValue, wIndex, data_or_wLength, timeout)\u001b[0m\n\u001b[1;32m   1067\u001b[0m     interface_number \u001b[39m=\u001b[39m wIndex \u001b[39m&\u001b[39m \u001b[39m0xff\u001b[39m\n\u001b[1;32m   1068\u001b[0m     \u001b[39mself\u001b[39m\u001b[39m.\u001b[39m_ctx\u001b[39m.\u001b[39mmanaged_claim_interface(\u001b[39mself\u001b[39m, interface_number)\n\u001b[0;32m-> 1070\u001b[0m ret \u001b[39m=\u001b[39m \u001b[39mself\u001b[39;49m\u001b[39m.\u001b[39;49m_ctx\u001b[39m.\u001b[39;49mbackend\u001b[39m.\u001b[39;49mctrl_transfer(\n\u001b[1;32m   1071\u001b[0m                             \u001b[39mself\u001b[39;49m\u001b[39m.\u001b[39;49m_ctx\u001b[39m.\u001b[39;49mhandle,\n\u001b[1;32m   1072\u001b[0m                             bmRequestType,\n\u001b[1;32m   1073\u001b[0m                             bRequest,\n\u001b[1;32m   1074\u001b[0m                             wValue,\n\u001b[1;32m   1075\u001b[0m                             wIndex,\n\u001b[1;32m   1076\u001b[0m                             buff,\n\u001b[1;32m   1077\u001b[0m                             \u001b[39mself\u001b[39;49m\u001b[39m.\u001b[39;49m__get_timeout(timeout))\n\u001b[1;32m   1079\u001b[0m \u001b[39mif\u001b[39;00m \u001b[39misinstance\u001b[39m(data_or_wLength, array\u001b[39m.\u001b[39marray) \\\n\u001b[1;32m   1080\u001b[0m         \u001b[39mor\u001b[39;00m util\u001b[39m.\u001b[39mctrl_direction(bmRequestType) \u001b[39m==\u001b[39m util\u001b[39m.\u001b[39mCTRL_OUT:\n\u001b[1;32m   1081\u001b[0m     \u001b[39mreturn\u001b[39;00m ret\n",
      "File \u001b[0;32m~/.pyenv/versions/3.11.1/lib/python3.11/site-packages/usb/backend/libusb1.py:893\u001b[0m, in \u001b[0;36m_LibUSB.ctrl_transfer\u001b[0;34m(self, dev_handle, bmRequestType, bRequest, wValue, wIndex, data, timeout)\u001b[0m\n\u001b[1;32m    890\u001b[0m addr, length \u001b[39m=\u001b[39m data\u001b[39m.\u001b[39mbuffer_info()\n\u001b[1;32m    891\u001b[0m length \u001b[39m*\u001b[39m\u001b[39m=\u001b[39m data\u001b[39m.\u001b[39mitemsize\n\u001b[0;32m--> 893\u001b[0m ret \u001b[39m=\u001b[39m _check(\u001b[39mself\u001b[39;49m\u001b[39m.\u001b[39;49mlib\u001b[39m.\u001b[39;49mlibusb_control_transfer(\n\u001b[1;32m    894\u001b[0m                                 dev_handle\u001b[39m.\u001b[39;49mhandle,\n\u001b[1;32m    895\u001b[0m                                 bmRequestType,\n\u001b[1;32m    896\u001b[0m                                 bRequest,\n\u001b[1;32m    897\u001b[0m                                 wValue,\n\u001b[1;32m    898\u001b[0m                                 wIndex,\n\u001b[1;32m    899\u001b[0m                                 cast(addr, POINTER(c_ubyte)),\n\u001b[1;32m    900\u001b[0m                                 length,\n\u001b[1;32m    901\u001b[0m                                 timeout))\n\u001b[1;32m    903\u001b[0m \u001b[39mreturn\u001b[39;00m ret\n",
      "File \u001b[0;32m~/.pyenv/versions/3.11.1/lib/python3.11/site-packages/usb/backend/libusb1.py:604\u001b[0m, in \u001b[0;36m_check\u001b[0;34m(ret)\u001b[0m\n\u001b[1;32m    602\u001b[0m         \u001b[39mraise\u001b[39;00m USBTimeoutError(_strerror(ret), ret, _libusb_errno[ret])\n\u001b[1;32m    603\u001b[0m     \u001b[39melse\u001b[39;00m:\n\u001b[0;32m--> 604\u001b[0m         \u001b[39mraise\u001b[39;00m USBError(_strerror(ret), ret, _libusb_errno[ret])\n\u001b[1;32m    606\u001b[0m \u001b[39mreturn\u001b[39;00m ret\n",
      "\u001b[0;31mUSBError\u001b[0m: [Errno 19] No such device (it may have been disconnected)"
     ]
    }
   ],
   "source": [
    "# ** PREREQUISITES **\n",
    "# Driver setup\n",
    "# download libusb: https://github.com/libusb/libusb/releases/tag/v1.0.26\n",
    "# ./autogen.sh\n",
    "# make\n",
    "# sudo make install\n",
    "# Python setup\n",
    "# https://eblot.github.io/pyftdi/installation.html\n",
    "\n",
    "# set environemnt variable LD_LIBRARY_PATH=/usr/local/lib\n",
    "# create a file .zshenv in your home directory\n",
    "# add the line export DYLD_LIBRARY_PATH=\"/opt/homebrew/lib:$DYLD_LIBRARY_PATH\"\n",
    "\n",
    "#export BLINKA_FT232H=1\n",
    "import os\n",
    "os.environ['BLINKA_FT232H'] = '1'\n",
    "\n",
    "from pyftdi.ftdi import Ftdi\n",
    "Ftdi.show_devices()"
   ]
  },
  {
   "cell_type": "code",
   "execution_count": 5,
   "metadata": {},
   "outputs": [],
   "source": [
    "# ** LED **\n",
    "\n",
    "import board\n",
    "import digitalio\n",
    "\n",
    "# setup LED 1 direction\n",
    "led1 = digitalio.DigitalInOut(board.C0)\n",
    "led1.direction = digitalio.Direction.OUTPUT\n",
    "led1.value = True\n",
    "# setup LED 2 direction\n",
    "led2 = digitalio.DigitalInOut(board.C1)\n",
    "led2.direction = digitalio.Direction.OUTPUT\n",
    "led2.value = True"
   ]
  },
  {
   "cell_type": "code",
   "execution_count": 8,
   "metadata": {},
   "outputs": [
    {
     "ename": "KeyboardInterrupt",
     "evalue": "",
     "output_type": "error",
     "traceback": [
      "\u001b[0;31m---------------------------------------------------------------------------\u001b[0m",
      "\u001b[0;31mKeyboardInterrupt\u001b[0m                         Traceback (most recent call last)",
      "Cell \u001b[0;32mIn[8], line 5\u001b[0m\n\u001b[1;32m      3\u001b[0m \u001b[39mwhile\u001b[39;00m \u001b[39mTrue\u001b[39;00m:\n\u001b[1;32m      4\u001b[0m     led2\u001b[39m.\u001b[39mvalue \u001b[39m=\u001b[39m \u001b[39mnot\u001b[39;00m led2\u001b[39m.\u001b[39mvalue\n\u001b[0;32m----> 5\u001b[0m     time\u001b[39m.\u001b[39msleep(\u001b[39m2\u001b[39m)\n",
      "\u001b[0;31mKeyboardInterrupt\u001b[0m: "
     ]
    }
   ],
   "source": [
    "# make LED2 blink one every 2 seconds\n",
    "import time\n",
    "while True:\n",
    "    led2.value = not led2.value\n",
    "    time.sleep(2)"
   ]
  }
 ],
 "metadata": {
  "kernelspec": {
   "display_name": "Python 3",
   "language": "python",
   "name": "python3"
  },
  "language_info": {
   "codemirror_mode": {
    "name": "ipython",
    "version": 3
   },
   "file_extension": ".py",
   "mimetype": "text/x-python",
   "name": "python",
   "nbconvert_exporter": "python",
   "pygments_lexer": "ipython3",
   "version": "3.11.1"
  },
  "orig_nbformat": 4,
  "vscode": {
   "interpreter": {
    "hash": "08f8fd6221a2f0cbfd416db6a91706873cd8bfa09cf0709848bee246a3631713"
   }
  }
 },
 "nbformat": 4,
 "nbformat_minor": 2
}
