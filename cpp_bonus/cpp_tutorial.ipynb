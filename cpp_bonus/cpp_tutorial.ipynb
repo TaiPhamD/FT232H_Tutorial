{
 "cells": [
  {
   "attachments": {},
   "cell_type": "markdown",
   "metadata": {},
   "source": [
    "# CPP parallel execution \n",
    "This is an example of running the app with built in std::execution::par to do STL algorithms in parallel"
   ]
  },
  {
   "cell_type": "code",
   "execution_count": 9,
   "metadata": {},
   "outputs": [
    {
     "name": "stdout",
     "output_type": "stream",
     "text": [
      "g++-12 (Homebrew GCC 12.2.0) 12.2.0\n",
      "Copyright (C) 2022 Free Software Foundation, Inc.\n",
      "This is free software; see the source for copying conditions.  There is NO\n",
      "warranty; not even for MERCHANTABILITY or FITNESS FOR A PARTICULAR PURPOSE.\n",
      "\n"
     ]
    }
   ],
   "source": [
    "!g++-12 --version"
   ]
  },
  {
   "attachments": {},
   "cell_type": "markdown",
   "metadata": {},
   "source": [
    "# Demonstration of using the new c++17 std::execution STL to do parallel processing"
   ]
  },
  {
   "cell_type": "code",
   "execution_count": 34,
   "metadata": {},
   "outputs": [
    {
     "name": "stdout",
     "output_type": "stream",
     "text": [
      "/opt/homebrew/bin/g++-12\n",
      "OK!\n",
      "Bandwidth [GB/s]: 72.1072\n"
     ]
    }
   ],
   "source": [
    "# need to link ltbb from: /opt/homebrew/Cellar/tbb/2021.8.0/lib for macOS\n",
    "!which g++-12\n",
    "!g++-12 -march=native -Ofast -DNDEBUG -o daxpy_par -std=c++20 daxpy_par.cpp -L/opt/homebrew/Cellar/tbb/2021.8.0/lib -ltbb\n",
    "!./daxpy_par 10000000"
   ]
  },
  {
   "attachments": {},
   "cell_type": "markdown",
   "metadata": {},
   "source": [
    "# Demonstration of the same code without parallel execution"
   ]
  },
  {
   "cell_type": "code",
   "execution_count": 33,
   "metadata": {},
   "outputs": [
    {
     "name": "stdout",
     "output_type": "stream",
     "text": [
      "OK!\n",
      "Bandwidth [GB/s]: 69.4682\n"
     ]
    }
   ],
   "source": [
    "!g++-12 -march=native -Ofast -DNDEBUG -o daxpy -std=c++20 daxpy.cpp\n",
    "!./daxpy 10000000"
   ]
  }
 ],
 "metadata": {
  "kernelspec": {
   "display_name": "Python 3",
   "language": "python",
   "name": "python3"
  },
  "language_info": {
   "codemirror_mode": {
    "name": "ipython",
    "version": 3
   },
   "file_extension": ".py",
   "mimetype": "text/x-python",
   "name": "python",
   "nbconvert_exporter": "python",
   "pygments_lexer": "ipython3",
   "version": "3.11.1"
  },
  "orig_nbformat": 4,
  "vscode": {
   "interpreter": {
    "hash": "08f8fd6221a2f0cbfd416db6a91706873cd8bfa09cf0709848bee246a3631713"
   }
  }
 },
 "nbformat": 4,
 "nbformat_minor": 2
}
